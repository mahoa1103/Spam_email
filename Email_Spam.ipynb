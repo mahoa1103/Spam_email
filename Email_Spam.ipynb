{
 "cells": [
  {
   "cell_type": "code",
   "execution_count": 2,
   "id": "fcc2b57e",
   "metadata": {},
   "outputs": [],
   "source": [
    "import pickle\n",
    "import pandas as pd\n",
    "import seaborn as sns\n",
    "import matplotlib.pyplot as plt\n",
    "from nltk.tokenize import word_tokenize, RegexpTokenizer\n",
    "from nltk.stem import PorterStemmer\n",
    "from sklearn.metrics import accuracy_score, classification_report\n",
    "from sklearn.model_selection import train_test_split\n",
    "from sklearn.feature_extraction.text import CountVectorizer\n",
    "from sklearn.ensemble import RandomForestClassifier\n",
    "from sklearn.naive_bayes import MultinomialNB\n",
    "from sklearn.linear_model import LogisticRegression\n",
    "from sklearn.neighbors import KNeighborsClassifier\n",
    "from sklearn.tree import DecisionTreeClassifier\n",
    "from sklearn.svm import LinearSVC\n",
    "from time import perf_counter\n",
    "import warnings\n",
    "sns.set_style('whitegrid')"
   ]
  },
  {
   "cell_type": "code",
   "execution_count": 3,
   "id": "9157828f",
   "metadata": {},
   "outputs": [],
   "source": [
    "df = pd.read_csv(r\"dataset\\spam_ham_dataset.csv\")"
   ]
  },
  {
   "cell_type": "code",
   "execution_count": 4,
   "id": "9c7fc7d5",
   "metadata": {},
   "outputs": [
    {
     "name": "stdout",
     "output_type": "stream",
     "text": [
      "Bộ Dữ Liệu\n"
     ]
    },
    {
     "data": {
      "text/html": [
       "<div>\n",
       "<style scoped>\n",
       "    .dataframe tbody tr th:only-of-type {\n",
       "        vertical-align: middle;\n",
       "    }\n",
       "\n",
       "    .dataframe tbody tr th {\n",
       "        vertical-align: top;\n",
       "    }\n",
       "\n",
       "    .dataframe thead th {\n",
       "        text-align: right;\n",
       "    }\n",
       "</style>\n",
       "<table border=\"1\" class=\"dataframe\">\n",
       "  <thead>\n",
       "    <tr style=\"text-align: right;\">\n",
       "      <th></th>\n",
       "      <th>lable</th>\n",
       "      <th>text</th>\n",
       "      <th>lable_num</th>\n",
       "    </tr>\n",
       "  </thead>\n",
       "  <tbody>\n",
       "    <tr>\n",
       "      <th>0</th>\n",
       "      <td>ham</td>\n",
       "      <td>Subject: enron methanol ; meter # : 988291\\r\\n...</td>\n",
       "      <td>0</td>\n",
       "    </tr>\n",
       "    <tr>\n",
       "      <th>1</th>\n",
       "      <td>ham</td>\n",
       "      <td>Subject: hpl nom for january 9 , 2001\\r\\n( see...</td>\n",
       "      <td>0</td>\n",
       "    </tr>\n",
       "    <tr>\n",
       "      <th>2</th>\n",
       "      <td>ham</td>\n",
       "      <td>Subject: neon retreat\\r\\nho ho ho , we ' re ar...</td>\n",
       "      <td>0</td>\n",
       "    </tr>\n",
       "    <tr>\n",
       "      <th>3</th>\n",
       "      <td>spam</td>\n",
       "      <td>Subject: photoshop , windows , office . cheap ...</td>\n",
       "      <td>1</td>\n",
       "    </tr>\n",
       "    <tr>\n",
       "      <th>4</th>\n",
       "      <td>ham</td>\n",
       "      <td>Subject: re : indian springs\\r\\nthis deal is t...</td>\n",
       "      <td>0</td>\n",
       "    </tr>\n",
       "  </tbody>\n",
       "</table>\n",
       "</div>"
      ],
      "text/plain": [
       "  lable                                               text  lable_num\n",
       "0   ham  Subject: enron methanol ; meter # : 988291\\r\\n...          0\n",
       "1   ham  Subject: hpl nom for january 9 , 2001\\r\\n( see...          0\n",
       "2   ham  Subject: neon retreat\\r\\nho ho ho , we ' re ar...          0\n",
       "3  spam  Subject: photoshop , windows , office . cheap ...          1\n",
       "4   ham  Subject: re : indian springs\\r\\nthis deal is t...          0"
      ]
     },
     "execution_count": 4,
     "metadata": {},
     "output_type": "execute_result"
    }
   ],
   "source": [
    "# Loại bỏ các dữ liệu trống\n",
    "df.drop('Unnamed: 0', axis=1, inplace=True)\n",
    "df.columns = ['lable', 'text', 'lable_num']\n",
    "\n",
    "print(\"Bộ Dữ Liệu\")\n",
    "df.head()"
   ]
  },
  {
   "cell_type": "code",
   "execution_count": 5,
   "id": "0a08a8f7",
   "metadata": {},
   "outputs": [
    {
     "name": "stdout",
     "output_type": "stream",
     "text": [
      "Kích Thước Bộ Dữ Liệu\n"
     ]
    },
    {
     "data": {
      "text/plain": [
       "(5171, 3)"
      ]
     },
     "execution_count": 5,
     "metadata": {},
     "output_type": "execute_result"
    }
   ],
   "source": [
    "print(\"Kích Thước Bộ Dữ Liệu\")\n",
    "df.shape"
   ]
  },
  {
   "cell_type": "code",
   "execution_count": 6,
   "id": "d80da1b5",
   "metadata": {},
   "outputs": [
    {
     "name": "stdout",
     "output_type": "stream",
     "text": [
      "Kiểm Tra Lại Bộ Dữ Liệu\n",
      "<class 'pandas.core.frame.DataFrame'>\n",
      "RangeIndex: 5171 entries, 0 to 5170\n",
      "Data columns (total 3 columns):\n",
      " #   Column     Non-Null Count  Dtype \n",
      "---  ------     --------------  ----- \n",
      " 0   lable      5171 non-null   object\n",
      " 1   text       5171 non-null   object\n",
      " 2   lable_num  5171 non-null   int64 \n",
      "dtypes: int64(1), object(2)\n",
      "memory usage: 121.3+ KB\n"
     ]
    }
   ],
   "source": [
    "print(\"Kiểm Tra Lại Bộ Dữ Liệu\")\n",
    "df.info()"
   ]
  },
  {
   "cell_type": "code",
   "execution_count": 7,
   "id": "c2fbe781",
   "metadata": {},
   "outputs": [
    {
     "name": "stdout",
     "output_type": "stream",
     "text": [
      "0    3672\n",
      "1    1499\n",
      "Name: lable_num, dtype: int64\n"
     ]
    }
   ],
   "source": [
    "t = df['lable_num'].value_counts()\n",
    "print(t)"
   ]
  },
  {
   "cell_type": "code",
   "execution_count": 8,
   "id": "4ea1dc3f",
   "metadata": {},
   "outputs": [
    {
     "name": "stdout",
     "output_type": "stream",
     "text": [
      "Tiền Xử Lý Dữ Liệu\n"
     ]
    },
    {
     "data": {
      "text/html": [
       "<div>\n",
       "<style scoped>\n",
       "    .dataframe tbody tr th:only-of-type {\n",
       "        vertical-align: middle;\n",
       "    }\n",
       "\n",
       "    .dataframe tbody tr th {\n",
       "        vertical-align: top;\n",
       "    }\n",
       "\n",
       "    .dataframe thead th {\n",
       "        text-align: right;\n",
       "    }\n",
       "</style>\n",
       "<table border=\"1\" class=\"dataframe\">\n",
       "  <thead>\n",
       "    <tr style=\"text-align: right;\">\n",
       "      <th></th>\n",
       "      <th>lable</th>\n",
       "      <th>text</th>\n",
       "      <th>lable_num</th>\n",
       "    </tr>\n",
       "  </thead>\n",
       "  <tbody>\n",
       "    <tr>\n",
       "      <th>0</th>\n",
       "      <td>ham</td>\n",
       "      <td>subject enron methanol meter 988291 this is a ...</td>\n",
       "      <td>0</td>\n",
       "    </tr>\n",
       "    <tr>\n",
       "      <th>1</th>\n",
       "      <td>ham</td>\n",
       "      <td>subject hpl nom for january 9 2001 see attache...</td>\n",
       "      <td>0</td>\n",
       "    </tr>\n",
       "    <tr>\n",
       "      <th>2</th>\n",
       "      <td>ham</td>\n",
       "      <td>subject neon retreat ho ho ho we re around to ...</td>\n",
       "      <td>0</td>\n",
       "    </tr>\n",
       "    <tr>\n",
       "      <th>3</th>\n",
       "      <td>spam</td>\n",
       "      <td>subject photoshop windows office cheap main tr...</td>\n",
       "      <td>1</td>\n",
       "    </tr>\n",
       "    <tr>\n",
       "      <th>4</th>\n",
       "      <td>ham</td>\n",
       "      <td>subject re indian springs this deal is to book...</td>\n",
       "      <td>0</td>\n",
       "    </tr>\n",
       "  </tbody>\n",
       "</table>\n",
       "</div>"
      ],
      "text/plain": [
       "  lable                                               text  lable_num\n",
       "0   ham  subject enron methanol meter 988291 this is a ...          0\n",
       "1   ham  subject hpl nom for january 9 2001 see attache...          0\n",
       "2   ham  subject neon retreat ho ho ho we re around to ...          0\n",
       "3  spam  subject photoshop windows office cheap main tr...          1\n",
       "4   ham  subject re indian springs this deal is to book...          0"
      ]
     },
     "execution_count": 8,
     "metadata": {},
     "output_type": "execute_result"
    }
   ],
   "source": [
    "# Tiền Xử Lý Dữ Liệu\n",
    "def clean_data(string, reg=RegexpTokenizer(r'[a-zA-Z0-9]+')):\n",
    "    string = string.lower()\n",
    "    tokens = reg.tokenize(string)\n",
    "    return \" \".join(tokens)\n",
    "\n",
    "\n",
    "print(\"Tiền Xử Lý Dữ Liệu\")\n",
    "df['text'] = df['text'].apply(lambda string: clean_data(string))\n",
    "df.head()"
   ]
  },
  {
   "cell_type": "code",
   "execution_count": 9,
   "id": "0b7fc74c",
   "metadata": {},
   "outputs": [
    {
     "name": "stdout",
     "output_type": "stream",
     "text": [
      "Thêm Cột Đếm Số Từ Trong Mail Vào Bộ Dữ Liệu\n"
     ]
    },
    {
     "data": {
      "text/html": [
       "<div>\n",
       "<style scoped>\n",
       "    .dataframe tbody tr th:only-of-type {\n",
       "        vertical-align: middle;\n",
       "    }\n",
       "\n",
       "    .dataframe tbody tr th {\n",
       "        vertical-align: top;\n",
       "    }\n",
       "\n",
       "    .dataframe thead th {\n",
       "        text-align: right;\n",
       "    }\n",
       "</style>\n",
       "<table border=\"1\" class=\"dataframe\">\n",
       "  <thead>\n",
       "    <tr style=\"text-align: right;\">\n",
       "      <th></th>\n",
       "      <th>lable</th>\n",
       "      <th>text</th>\n",
       "      <th>lable_num</th>\n",
       "      <th>count</th>\n",
       "    </tr>\n",
       "  </thead>\n",
       "  <tbody>\n",
       "    <tr>\n",
       "      <th>0</th>\n",
       "      <td>ham</td>\n",
       "      <td>subject enron methanol meter 988291 this is a ...</td>\n",
       "      <td>0</td>\n",
       "      <td>53</td>\n",
       "    </tr>\n",
       "    <tr>\n",
       "      <th>1</th>\n",
       "      <td>ham</td>\n",
       "      <td>subject hpl nom for january 9 2001 see attache...</td>\n",
       "      <td>0</td>\n",
       "      <td>16</td>\n",
       "    </tr>\n",
       "    <tr>\n",
       "      <th>2</th>\n",
       "      <td>ham</td>\n",
       "      <td>subject neon retreat ho ho ho we re around to ...</td>\n",
       "      <td>0</td>\n",
       "      <td>469</td>\n",
       "    </tr>\n",
       "    <tr>\n",
       "      <th>3</th>\n",
       "      <td>spam</td>\n",
       "      <td>subject photoshop windows office cheap main tr...</td>\n",
       "      <td>1</td>\n",
       "      <td>44</td>\n",
       "    </tr>\n",
       "    <tr>\n",
       "      <th>4</th>\n",
       "      <td>ham</td>\n",
       "      <td>subject re indian springs this deal is to book...</td>\n",
       "      <td>0</td>\n",
       "      <td>64</td>\n",
       "    </tr>\n",
       "  </tbody>\n",
       "</table>\n",
       "</div>"
      ],
      "text/plain": [
       "  lable                                               text  lable_num  count\n",
       "0   ham  subject enron methanol meter 988291 this is a ...          0     53\n",
       "1   ham  subject hpl nom for january 9 2001 see attache...          0     16\n",
       "2   ham  subject neon retreat ho ho ho we re around to ...          0    469\n",
       "3  spam  subject photoshop windows office cheap main tr...          1     44\n",
       "4   ham  subject re indian springs this deal is to book...          0     64"
      ]
     },
     "execution_count": 9,
     "metadata": {},
     "output_type": "execute_result"
    }
   ],
   "source": [
    "print(\"Thêm Cột Đếm Số Từ Trong Mail Vào Bộ Dữ Liệu\")\n",
    "def count_words(txt):\n",
    "    words = word_tokenize(txt)\n",
    "    return len(words)\n",
    "\n",
    "\n",
    "df['count'] = df['text'].apply(count_words)\n",
    "df.head()"
   ]
  },
  {
   "cell_type": "code",
   "execution_count": 10,
   "id": "0980363e",
   "metadata": {},
   "outputs": [
    {
     "data": {
      "text/html": [
       "<div>\n",
       "<style scoped>\n",
       "    .dataframe tbody tr th:only-of-type {\n",
       "        vertical-align: middle;\n",
       "    }\n",
       "\n",
       "    .dataframe tbody tr th {\n",
       "        vertical-align: top;\n",
       "    }\n",
       "\n",
       "    .dataframe thead th {\n",
       "        text-align: right;\n",
       "    }\n",
       "</style>\n",
       "<table border=\"1\" class=\"dataframe\">\n",
       "  <thead>\n",
       "    <tr style=\"text-align: right;\">\n",
       "      <th></th>\n",
       "      <th>count</th>\n",
       "    </tr>\n",
       "    <tr>\n",
       "      <th>lable_num</th>\n",
       "      <th></th>\n",
       "    </tr>\n",
       "  </thead>\n",
       "  <tbody>\n",
       "    <tr>\n",
       "      <th>0</th>\n",
       "      <td>156.044390</td>\n",
       "    </tr>\n",
       "    <tr>\n",
       "      <th>1</th>\n",
       "      <td>186.176785</td>\n",
       "    </tr>\n",
       "  </tbody>\n",
       "</table>\n",
       "</div>"
      ],
      "text/plain": [
       "                count\n",
       "lable_num            \n",
       "0          156.044390\n",
       "1          186.176785"
      ]
     },
     "execution_count": 10,
     "metadata": {},
     "output_type": "execute_result"
    }
   ],
   "source": [
    "df.groupby('lable_num').mean()"
   ]
  },
  {
   "cell_type": "code",
   "execution_count": 11,
   "id": "ebb8757b",
   "metadata": {},
   "outputs": [
    {
     "data": {
      "text/html": [
       "<div>\n",
       "<style scoped>\n",
       "    .dataframe tbody tr th:only-of-type {\n",
       "        vertical-align: middle;\n",
       "    }\n",
       "\n",
       "    .dataframe tbody tr th {\n",
       "        vertical-align: top;\n",
       "    }\n",
       "\n",
       "    .dataframe thead th {\n",
       "        text-align: right;\n",
       "    }\n",
       "</style>\n",
       "<table border=\"1\" class=\"dataframe\">\n",
       "  <thead>\n",
       "    <tr style=\"text-align: right;\">\n",
       "      <th></th>\n",
       "      <th>lable</th>\n",
       "      <th>text</th>\n",
       "      <th>lable_num</th>\n",
       "      <th>count</th>\n",
       "    </tr>\n",
       "  </thead>\n",
       "  <tbody>\n",
       "    <tr>\n",
       "      <th>0</th>\n",
       "      <td>ham</td>\n",
       "      <td>subject enron methanol meter 988291 this is a ...</td>\n",
       "      <td>0</td>\n",
       "      <td>53</td>\n",
       "    </tr>\n",
       "    <tr>\n",
       "      <th>1</th>\n",
       "      <td>ham</td>\n",
       "      <td>subject hpl nom for january 9 2001 see attache...</td>\n",
       "      <td>0</td>\n",
       "      <td>16</td>\n",
       "    </tr>\n",
       "    <tr>\n",
       "      <th>2</th>\n",
       "      <td>ham</td>\n",
       "      <td>subject neon retreat ho ho ho we re around to ...</td>\n",
       "      <td>0</td>\n",
       "      <td>469</td>\n",
       "    </tr>\n",
       "    <tr>\n",
       "      <th>3</th>\n",
       "      <td>spam</td>\n",
       "      <td>subject photoshop windows office cheap main tr...</td>\n",
       "      <td>1</td>\n",
       "      <td>44</td>\n",
       "    </tr>\n",
       "    <tr>\n",
       "      <th>4</th>\n",
       "      <td>ham</td>\n",
       "      <td>subject re indian springs this deal is to book...</td>\n",
       "      <td>0</td>\n",
       "      <td>64</td>\n",
       "    </tr>\n",
       "  </tbody>\n",
       "</table>\n",
       "</div>"
      ],
      "text/plain": [
       "  lable                                               text  lable_num  count\n",
       "0   ham  subject enron methanol meter 988291 this is a ...          0     53\n",
       "1   ham  subject hpl nom for january 9 2001 see attache...          0     16\n",
       "2   ham  subject neon retreat ho ho ho we re around to ...          0    469\n",
       "3  spam  subject photoshop windows office cheap main tr...          1     44\n",
       "4   ham  subject re indian springs this deal is to book...          0     64"
      ]
     },
     "execution_count": 11,
     "metadata": {},
     "output_type": "execute_result"
    }
   ],
   "source": [
    "# Stemming Words -\n",
    "stemmer = PorterStemmer()\n",
    "\n",
    "\n",
    "def stemming(txt):\n",
    "    return ''.join([stemmer.stem(word) for word in txt])\n",
    "\n",
    "\n",
    "df['text'] = df['text'].apply(stemming)\n",
    "df.head()"
   ]
  },
  {
   "cell_type": "code",
   "execution_count": 12,
   "id": "94b38141",
   "metadata": {},
   "outputs": [
    {
     "name": "stdout",
     "output_type": "stream",
     "text": [
      "Size Training Data: (3619,) \n",
      "\n",
      "Size Test Data: (1552,) \n",
      "\n"
     ]
    }
   ],
   "source": [
    "x = df.loc[:, 'text']\n",
    "y = df.loc[:, 'lable_num']\n",
    "x_train, x_test, y_train, y_test = train_test_split(x, y, test_size=0.30, random_state=200)\n",
    "print(f\"Size Training Data: {x_train.shape} \\n\")\n",
    "print(f\"Size Test Data: {x_test.shape} \\n\")"
   ]
  },
  {
   "cell_type": "code",
   "execution_count": 13,
   "id": "db7d8050",
   "metadata": {},
   "outputs": [
    {
     "name": "stdout",
     "output_type": "stream",
     "text": [
      "Số lượng từ vựng(Features):  41573\n"
     ]
    }
   ],
   "source": [
    "# dùng CountVectorizer trích rút Features từ Text\n",
    "cv = CountVectorizer()\n",
    "cv.fit(x_train)\n",
    "print(\"Số lượng từ vựng(Features): \", len(cv.vocabulary_.keys()))"
   ]
  },
  {
   "cell_type": "code",
   "execution_count": 14,
   "id": "0ea8c471",
   "metadata": {},
   "outputs": [
    {
     "name": "stdout",
     "output_type": "stream",
     "text": [
      "[[0 0 0 ... 0 0 0]\n",
      " [0 2 0 ... 0 0 0]\n",
      " [0 0 0 ... 0 0 0]\n",
      " ...\n",
      " [3 0 0 ... 0 0 0]\n",
      " [0 0 0 ... 0 0 0]\n",
      " [0 0 0 ... 0 0 0]]\n",
      "Input Training Data: 3619 \n",
      "\n"
     ]
    }
   ],
   "source": [
    "dtv = cv.transform(x_train)\n",
    "type(dtv)\n",
    "pickle.dump(cv, open(\"Vector.pkl\", \"wb\"))\n",
    "\n",
    "dtv = dtv.toarray()\n",
    "print(dtv)\n",
    "print(f\"Input Training Data: {dtv.shape[0]} \\n\")"
   ]
  },
  {
   "cell_type": "code",
   "execution_count": 16,
   "id": "99246fc1",
   "metadata": {},
   "outputs": [
    {
     "name": "stdout",
     "output_type": "stream",
     "text": [
      "Ramdom Forest                  trained in 20.356 sec\n",
      "MultinomialNB                  trained in 3.016 sec\n",
      "Logistic Regression            trained in 2.885 sec\n",
      "KNeighbors                     trained in 0.001 sec\n",
      "Decision Tree                  trained in 18.959 sec\n",
      "LinearSVC                      trained in 1.192 sec\n"
     ]
    }
   ],
   "source": [
    "warnings.filterwarnings(action='ignore')\n",
    "models = {\n",
    "    \"Ramdom Forest\": {\"model\": RandomForestClassifier(), \"perf\": 0},\n",
    "    \"MultinomialNB\": {\"model\": MultinomialNB(), \"perf\": 0},\n",
    "    \"Logistic Regression\": {\"model\": LogisticRegression(solver='liblinear', penalty='l2', C=1.0), \"perf\": 0},\n",
    "    \"KNeighbors\": {\"model\": KNeighborsClassifier(), \"perf\": 0},\n",
    "    \"Decision Tree\": {\"model\": DecisionTreeClassifier(), \"perf\": 0},\n",
    "    \"LinearSVC\": {\"model\": LinearSVC(), \"perf\": 0}\n",
    "}\n",
    "\n",
    "for name, model in models.items():\n",
    "    start = perf_counter()\n",
    "    model[\"model\"].fit(dtv, y_train)\n",
    "    duration = perf_counter() - start  # tính giờ train\n",
    "    duration = round(duration, 3)\n",
    "    model[\"perf\"] = duration\n",
    "    print(f\"{name:30} trained in {duration} sec\")"
   ]
  },
  {
   "cell_type": "code",
   "execution_count": 17,
   "id": "b7426a22",
   "metadata": {},
   "outputs": [
    {
     "name": "stdout",
     "output_type": "stream",
     "text": [
      "Input Test Data: 1552 \n",
      "\n",
      "                 Model  Test Accuracy  Training Time (sec)\n",
      "0        MultinomialNB       0.974227                3.016\n",
      "1  Logistic Regression       0.972294                2.885\n",
      "2        Ramdom Forest       0.967784               20.356\n",
      "3            LinearSVC       0.963918                1.192\n",
      "4        Decision Tree       0.949742               18.959\n",
      "5           KNeighbors       0.839562                0.001\n"
     ]
    }
   ],
   "source": [
    "test_dtv = cv.transform(x_test)\n",
    "test_dtv = test_dtv.toarray()\n",
    "print(f\"Input Test Data: {test_dtv.shape[0]} \\n\")\n",
    "\n",
    "# Test Accuracy and Training Time\n",
    "modles_accuracy = []\n",
    "for name1, model1 in models.items():\n",
    "    modles_accuracy.append([name1, model1[\"model\"].score(test_dtv, y_test), model1[\"perf\"]])\n",
    "\n",
    "df_accuracy = pd.DataFrame(modles_accuracy)\n",
    "df_accuracy.columns = ['Model', 'Test Accuracy', 'Training Time (sec)']\n",
    "df_accuracy.sort_values(by='Test Accuracy', ascending=False, inplace=True)\n",
    "df_accuracy.reset_index(drop=True, inplace=True)\n",
    "print(df_accuracy)"
   ]
  },
  {
   "cell_type": "code",
   "execution_count": 18,
   "id": "033e9530",
   "metadata": {},
   "outputs": [
    {
     "name": "stdout",
     "output_type": "stream",
     "text": [
      "Logistic Regression Accuracy:  97.22938144329896\n",
      "Logistic Regression \n",
      "\n",
      "              precision    recall  f1-score   support\n",
      "\n",
      "           0       0.99      0.98      0.98      1101\n",
      "           1       0.94      0.96      0.95       451\n",
      "\n",
      "    accuracy                           0.97      1552\n",
      "   macro avg       0.96      0.97      0.97      1552\n",
      "weighted avg       0.97      0.97      0.97      1552\n",
      "\n"
     ]
    },
    {
     "data": {
      "image/png": "[encoded data removed]",
      "text/plain": [
       "<Figure size 600x600 with 1 Axes>"
      ]
     },
     "metadata": {},
     "output_type": "display_data"
    }
   ],
   "source": [
    "# Logistic Regression\n",
    "lr = LogisticRegression(solver='liblinear', penalty='l2', C=1.0)\n",
    "lr.fit(dtv, y_train)\n",
    "predict_1 = lr.predict(test_dtv)\n",
    "pickle.dump(lr, open(\"logistic.pkl\", \"wb\"))\n",
    "print(\"Logistic Regression Accuracy: \", accuracy_score(y_test, predict_1) * 100)\n",
    "\n",
    "# Classìfication Report\n",
    "print(\"Logistic Regression \\n\")\n",
    "print(classification_report(y_test, predict_1))\n",
    "\n",
    "confusion_matrix = pd.crosstab(y_test, predict_1, rownames=['Actual'], colnames=['predicted'])\n",
    "plt.figure(figsize=(6, 6))\n",
    "plt.title('Logistic Regression')\n",
    "sns.heatmap(confusion_matrix, annot=True, cmap='Paired', cbar=False, fmt=\"d\", xticklabels=['Ham', 'Spam'],\n",
    "            yticklabels=['Ham', 'Spam'])\n",
    "plt.show()"
   ]
  },
  {
   "cell_type": "code",
   "execution_count": 19,
   "id": "d7e76de4",
   "metadata": {},
   "outputs": [
    {
     "name": "stdout",
     "output_type": "stream",
     "text": [
      "Decision Tree Accuracy:  94.39432989690721\n",
      "Decision Tree Classifier \n",
      "\n",
      "              precision    recall  f1-score   support\n",
      "\n",
      "           0       0.97      0.95      0.96      1101\n",
      "           1       0.89      0.92      0.91       451\n",
      "\n",
      "    accuracy                           0.94      1552\n",
      "   macro avg       0.93      0.94      0.93      1552\n",
      "weighted avg       0.94      0.94      0.94      1552\n",
      "\n"
     ]
    },
    {
     "data": {
      "image/png": "[encoded data removed]",
      "text/plain": [
       "<Figure size 600x600 with 1 Axes>"
      ]
     },
     "metadata": {},
     "output_type": "display_data"
    }
   ],
   "source": [
    "# Decision Tree Classifier\n",
    "dt = DecisionTreeClassifier()\n",
    "dt.fit(dtv, y_train)\n",
    "predict_2 = dt.predict(test_dtv)\n",
    "pickle.dump(dt, open(\"DecisionTree.pkl\", \"wb\"))\n",
    "print(\"Decision Tree Accuracy: \", accuracy_score(y_test, predict_2) * 100)\n",
    "\n",
    "# Classìfication Report\n",
    "print(\"Decision Tree Classifier \\n\")\n",
    "print(classification_report(y_test, predict_2))\n",
    "\n",
    "confusion_matrix = pd.crosstab(y_test, predict_2, rownames=['Actual'], colnames=['predicted'])\n",
    "plt.figure(figsize=(6, 6))\n",
    "plt.title('Decision Tree Classifier')\n",
    "sns.heatmap(confusion_matrix, annot=True, cmap='Paired', cbar=False, fmt=\"d\", xticklabels=['Ham', 'Spam'],\n",
    "            yticklabels=['Ham', 'Spam'])\n",
    "plt.show()"
   ]
  },
  {
   "cell_type": "code",
   "execution_count": 20,
   "id": "e19bcbeb",
   "metadata": {},
   "outputs": [
    {
     "name": "stdout",
     "output_type": "stream",
     "text": [
      "Random Forest Accuracy:  96.90721649484536\n",
      "Random Forest Classifier \n",
      "\n",
      "              precision    recall  f1-score   support\n",
      "\n",
      "           0       0.98      0.98      0.98      1101\n",
      "           1       0.94      0.95      0.95       451\n",
      "\n",
      "    accuracy                           0.97      1552\n",
      "   macro avg       0.96      0.96      0.96      1552\n",
      "weighted avg       0.97      0.97      0.97      1552\n",
      "\n"
     ]
    },
    {
     "data": {
      "image/png": "[encoded data removed]",
      "text/plain": [
       "<Figure size 600x600 with 1 Axes>"
      ]
     },
     "metadata": {},
     "output_type": "display_data"
    }
   ],
   "source": [
    "# Random Forest Classifier\n",
    "rfc = RandomForestClassifier()\n",
    "rfc.fit(dtv, y_train)\n",
    "predict_3 = rfc.predict(test_dtv)\n",
    "pickle.dump(rfc, open(\"RandomForest.pkl\", \"wb\"))\n",
    "print(\"Random Forest Accuracy: \", accuracy_score(y_test, predict_3) * 100)\n",
    "\n",
    "# Classìfication Report\n",
    "print(\"Random Forest Classifier \\n\")\n",
    "print(classification_report(y_test, predict_3))\n",
    "\n",
    "confusion_matrix = pd.crosstab(y_test, predict_3, rownames=['Actual'], colnames=['predicted'])\n",
    "plt.figure(figsize=(6, 6))\n",
    "plt.title('Random Forest Classifier')\n",
    "sns.heatmap(confusion_matrix, annot=True, cmap='Paired', cbar=False, fmt=\"d\", xticklabels=['Ham', 'Spam'],\n",
    "            yticklabels=['Ham', 'Spam'])\n",
    "plt.show()"
   ]
  },
  {
   "cell_type": "code",
   "execution_count": 21,
   "id": "ebaa625c",
   "metadata": {},
   "outputs": [
    {
     "name": "stdout",
     "output_type": "stream",
     "text": [
      "Multinomial Naive Bayes Accuracy:  97.42268041237114\n",
      "Multinomial Naive Bayes \n",
      "\n",
      "              precision    recall  f1-score   support\n",
      "\n",
      "           0       0.98      0.99      0.98      1101\n",
      "           1       0.97      0.94      0.96       451\n",
      "\n",
      "    accuracy                           0.97      1552\n",
      "   macro avg       0.97      0.97      0.97      1552\n",
      "weighted avg       0.97      0.97      0.97      1552\n",
      "\n"
     ]
    },
    {
     "data": {
      "image/png": "[encoded data removed]",
      "text/plain": [
       "<Figure size 600x600 with 1 Axes>"
      ]
     },
     "metadata": {},
     "output_type": "display_data"
    }
   ],
   "source": [
    "# Multinomial Naive Bayes\n",
    "mnb = MultinomialNB()\n",
    "mnb.fit(dtv, y_train)\n",
    "predict_4 = mnb.predict(test_dtv)\n",
    "pickle.dump(mnb, open(\"MultinomialNB.pkl\", \"wb\"))\n",
    "print(\"Multinomial Naive Bayes Accuracy: \", accuracy_score(y_test, predict_4) * 100)\n",
    "\n",
    "# Classìfication Report\n",
    "print(\"Multinomial Naive Bayes \\n\")\n",
    "print(classification_report(y_test, predict_4))\n",
    "\n",
    "confusion_matrix = pd.crosstab(y_test, predict_4, rownames=['Actual'], colnames=['predicted'])\n",
    "plt.figure(figsize=(6, 6))\n",
    "plt.title('Multinomial Naive Bayes')\n",
    "sns.heatmap(confusion_matrix, annot=True, cmap='Paired', cbar=False, fmt=\"d\", xticklabels=['Ham', 'Spam'],\n",
    "            yticklabels=['Ham', 'Spam'])\n",
    "plt.show()"
   ]
  },
  {
   "cell_type": "code",
   "execution_count": 22,
   "id": "3e8e3bb0",
   "metadata": {},
   "outputs": [
    {
     "name": "stdout",
     "output_type": "stream",
     "text": [
      "LinearSVC Accuracy:  96.3917525773196\n",
      "LinearSVC \n",
      "\n",
      "              precision    recall  f1-score   support\n",
      "\n",
      "           0       0.98      0.97      0.97      1101\n",
      "           1       0.93      0.94      0.94       451\n",
      "\n",
      "    accuracy                           0.96      1552\n",
      "   macro avg       0.95      0.96      0.96      1552\n",
      "weighted avg       0.96      0.96      0.96      1552\n",
      "\n"
     ]
    },
    {
     "data": {
      "image/png": "[encoded data removed]",
      "text/plain": [
       "<Figure size 600x600 with 1 Axes>"
      ]
     },
     "metadata": {},
     "output_type": "display_data"
    }
   ],
   "source": [
    "# Linear SVC\n",
    "lsvc = LinearSVC()\n",
    "lsvc.fit(dtv, y_train)\n",
    "predict_5 = lsvc.predict(test_dtv)\n",
    "pickle.dump(lsvc, open(\"LinearSVC.pkl\", \"wb\"))\n",
    "print(\"LinearSVC Accuracy: \", accuracy_score(y_test, predict_5) * 100)\n",
    "\n",
    "# Classìfication Report\n",
    "print(\"LinearSVC \\n\")\n",
    "print(classification_report(y_test, predict_5))\n",
    "\n",
    "confusion_matrix = pd.crosstab(y_test, predict_5, rownames=['Actual'], colnames=['predicted'])\n",
    "plt.figure(figsize=(6, 6))\n",
    "plt.title('LinearSVC')\n",
    "sns.heatmap(confusion_matrix, annot=True, cmap='Paired', cbar=False, fmt=\"d\", xticklabels=['Ham', 'Spam'],\n",
    "            yticklabels=['Ham', 'Spam'])\n",
    "plt.show()"
   ]
  },
  {
   "cell_type": "code",
   "execution_count": 23,
   "id": "9b1e1a91",
   "metadata": {},
   "outputs": [
    {
     "name": "stdout",
     "output_type": "stream",
     "text": [
      "K Neighbors Classifie Accuracy:  83.95618556701031\n",
      "K Neighbors Classifie \n",
      "\n",
      "              precision    recall  f1-score   support\n",
      "\n",
      "           0       0.94      0.83      0.88      1101\n",
      "           1       0.67      0.86      0.76       451\n",
      "\n",
      "    accuracy                           0.84      1552\n",
      "   macro avg       0.81      0.85      0.82      1552\n",
      "weighted avg       0.86      0.84      0.84      1552\n",
      "\n"
     ]
    },
    {
     "data": {
      "image/png": "[encoded data removed]",
      "text/plain": [
       "<Figure size 600x600 with 1 Axes>"
      ]
     },
     "metadata": {},
     "output_type": "display_data"
    }
   ],
   "source": [
    "# K Neighbors Classifie\n",
    "knn = KNeighborsClassifier()\n",
    "knn.fit(dtv, y_train)\n",
    "predict_6 = knn.predict(test_dtv)\n",
    "pickle.dump(knn, open(\"KNeighbors.pkl\", \"wb\"))\n",
    "print(\"K Neighbors Classifie Accuracy: \", accuracy_score(y_test, predict_6) * 100)\n",
    "\n",
    "# Classìfication Report\n",
    "print(\"K Neighbors Classifie \\n\")\n",
    "print(classification_report(y_test, predict_6))\n",
    "\n",
    "confusion_matrix = pd.crosstab(y_test, predict_6, rownames=['Actual'], colnames=['predicted'])\n",
    "plt.figure(figsize=(6, 6))\n",
    "plt.title('K Neighbors Classifie')\n",
    "sns.heatmap(confusion_matrix, annot=True, cmap='Paired', cbar=False, fmt=\"d\", xticklabels=['Ham', 'Spam'],\n",
    "            yticklabels=['Ham', 'Spam'])\n",
    "plt.show()"
   ]
  },
  {
   "cell_type": "code",
   "execution_count": null,
   "id": "acdbd822",
   "metadata": {},
   "outputs": [],
   "source": []
  }
 ],
 "metadata": {
  "kernelspec": {
   "display_name": "Python 3 (ipykernel)",
   "language": "python",
   "name": "python3"
  },
  "language_info": {
   "codemirror_mode": {
    "name": "ipython",
    "version": 3
   },
   "file_extension": ".py",
   "mimetype": "text/x-python",
   "name": "python",
   "nbconvert_exporter": "python",
   "pygments_lexer": "ipython3",
   "version": "3.7.0"
  }
 },
 "nbformat": 4,
 "nbformat_minor": 5
}
